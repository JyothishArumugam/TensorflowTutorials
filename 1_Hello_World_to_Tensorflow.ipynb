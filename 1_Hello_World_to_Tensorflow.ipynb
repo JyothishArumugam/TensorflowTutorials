{
  "nbformat": 4,
  "nbformat_minor": 0,
  "metadata": {
    "colab": {
      "name": "1 Hello World to Tensorflow.ipynb",
      "provenance": [],
      "authorship_tag": "ABX9TyN6gxHlByuPSfVbuzpfRhbE",
      "include_colab_link": true
    },
    "kernelspec": {
      "name": "python3",
      "display_name": "Python 3"
    },
    "language_info": {
      "name": "python"
    }
  },
  "cells": [
    {
      "cell_type": "markdown",
      "metadata": {
        "id": "view-in-github",
        "colab_type": "text"
      },
      "source": [
        "<a href=\"https://colab.research.google.com/github/JyothishArumugam/TensorflowTutorials/blob/main/1_Hello_World_to_Tensorflow.ipynb\" target=\"_parent\"><img src=\"https://colab.research.google.com/assets/colab-badge.svg\" alt=\"Open In Colab\"/></a>"
      ]
    },
    {
      "cell_type": "markdown",
      "metadata": {
        "id": "KBInnj6mb16z"
      },
      "source": [
        "# A Hello World to Tensorflow\n",
        "- Tensorflow is an opensource library which is mostly used in the machine learning , itis also a math library which is based on dataflow graphs and differential programming paradigms.\n",
        "- According to the  wikipedia definition <br>*Differentiable programming is a programming paradigm in which a numeric computer program can be differentiated throughout via automatic differentiation. This allows for gradient based optimization of parameters in the program, often via gradient descent. Differentiable programming has found use in a wide variety of areas, particularly scientific computing and artificial intelligence.*\n",
        "\n",
        "\n",
        "---\n",
        "\n",
        "\n",
        "# What is different with Machine learning?\n",
        "In a conventional programming setup , a programmer would break any computational problem into simpler sub problems, which will be then coded, using logic flows. \n",
        "\n",
        "!Todo: the figure for the conventional programming \n",
        "\n",
        "But the machine learning way of solving the problem is bit inverted. Here the machine learning system will take mapping of the input to output pairs as input to the system, and will learn the pattern from those mappings and outputs the rules.\n",
        "\n",
        "- Let us break this down. Let us consider we are having two arrays\n",
        "\n",
        "\n",
        "```\n",
        "x = [0,1,2,3,4,5]\n",
        "y = [2,4,6,8,10,12]\n",
        "```\n",
        "When taking a closer look at the above equations, we can see the relationship between the y and x as ```y = 2x + 2``` \n",
        "In the convetional setup we will be coding like:\n"
      ]
    },
    {
      "cell_type": "code",
      "metadata": {
        "id": "GaTXCrLu_xm3",
        "colab": {
          "base_uri": "https://localhost:8080/"
        },
        "outputId": "d40926c4-6b4d-4c78-c964-7c0a5340a9b4"
      },
      "source": [
        "x = [0,1,2,3,4,5]\n",
        "rule =\"2*x +2\"\n",
        "y = []\n",
        "#inorder to figure out the y values ,using this rule\n",
        "for every_element in x:\n",
        "  y.append(every_element*2 +2)\n",
        "print(\"y value is :\",y)"
      ],
      "execution_count": 8,
      "outputs": [
        {
          "output_type": "stream",
          "text": [
            "y value is : [2, 4, 6, 8, 10, 12]\n"
          ],
          "name": "stdout"
        }
      ]
    },
    {
      "cell_type": "markdown",
      "metadata": {
        "id": "zey2lJmmg0qb"
      },
      "source": [
        "Let us make this as a function which can take the input x values and gives out the corresponding y value"
      ]
    },
    {
      "cell_type": "code",
      "metadata": {
        "id": "ehakFqt4gtOr",
        "colab": {
          "base_uri": "https://localhost:8080/"
        },
        "outputId": "09ec5d96-7b89-4e5a-fbe5-63ff7f72ab2e"
      },
      "source": [
        "def calculate_y_value(x):\n",
        "  return 2*x +2\n",
        "# Let us calculate the value for x= 10\n",
        "print(\"The value of y , when x =10 is :\",calculate_y_value(10))\n"
      ],
      "execution_count": 9,
      "outputs": [
        {
          "output_type": "stream",
          "text": [
            "The value of y , when x =10 is : 22\n"
          ],
          "name": "stdout"
        }
      ]
    },
    {
      "cell_type": "markdown",
      "metadata": {
        "id": "uElPkZRphWtp"
      },
      "source": [
        "#### **Let us do the same calculation in tensorflow way**\n",
        "The program breaks down as follows:\n",
        "- create a machine architecutre, which will take the input/output mappings.\n",
        "- Learn the mapping rules\n",
        "-  Use the learned rule to predict the value of y for an unseen x value"
      ]
    },
    {
      "cell_type": "code",
      "metadata": {
        "id": "UC4Z8QV_hSki",
        "colab": {
          "base_uri": "https://localhost:8080/"
        },
        "outputId": "4b7e0b7b-6f8e-42af-b694-a98056de4d34"
      },
      "source": [
        "# Step 1: Creating a learning machine architecutre to learn the mappings\n",
        "import tensorflow as tf \n",
        "print(\"Tensorflow version we are using\",tf.__version__)\n",
        "model = tf.keras.Sequential(tf.keras.layers.Dense(units = 1,input_shape=[1]))\n",
        "#here units is the value which measures the shape of output value.\n",
        "#input_shape is the indicator for the input shape"
      ],
      "execution_count": 15,
      "outputs": [
        {
          "output_type": "stream",
          "text": [
            "Tensorflow version we are using 2.5.0\n"
          ],
          "name": "stdout"
        }
      ]
    },
    {
      "cell_type": "markdown",
      "metadata": {
        "id": "cICjcVpfjO-p"
      },
      "source": [
        "- Our machine has to learn a mapping between one x value to one y value.\n",
        "- Thus we can see that the  machine has 1 units (output) and input_shape =1 one input x value."
      ]
    },
    {
      "cell_type": "code",
      "metadata": {
        "id": "M6W4gmn6ic-z"
      },
      "source": [
        "model.compile(optimizer = 'sgd', loss='mean_squared_error')"
      ],
      "execution_count": 11,
      "outputs": []
    },
    {
      "cell_type": "markdown",
      "metadata": {
        "id": "Ry845ab_kNV9"
      },
      "source": [
        "- Imagine the optimizer and the loss function as internal  mechanism the machine has to follow inorder to learn the best mapping between the provided input and output values\n",
        "- Let us ask the machine with the above setup to learn the mappings"
      ]
    },
    {
      "cell_type": "code",
      "metadata": {
        "id": "IKLJXYNBkNCa"
      },
      "source": [
        "model.fit(x,y,epochs=500)"
      ],
      "execution_count": null,
      "outputs": []
    },
    {
      "cell_type": "code",
      "metadata": {
        "id": "nxXmAXccklkb",
        "colab": {
          "base_uri": "https://localhost:8080/"
        },
        "outputId": "da2a3dd0-9b82-4701-d432-c4dba63d0013"
      },
      "source": [
        "print(\"y value when x is 10:\",model.predict([10])[0][0])"
      ],
      "execution_count": 13,
      "outputs": [
        {
          "output_type": "stream",
          "text": [
            "y value when x is 10: 22.139196\n"
          ],
          "name": "stdout"
        }
      ]
    },
    {
      "cell_type": "markdown",
      "metadata": {
        "id": "OQz0RTG6lLcP"
      },
      "source": [
        "Let us spend some time in understanding some of the words used above like epoch, predict and fit\n",
        "\n",
        " **Epoch**\n",
        "- Imagine the machine as  a student who learns a new skill. Epoch is a measure of number of time he repeatedly does the same task of learning adjusting and correcting the mistakes every time. \n",
        "- In a normal case imagine like the more he learns the more he captures the mapping between the input and output. <br>\n",
        "{Try running the above cells with less epochs, say 100 and then check the model predict output.}\n",
        "\n",
        "**Fit**\n",
        "- Fit is the equivalent of asking the machine to learn the mapping.\n",
        "\n",
        "**Predict**\n",
        "- Predict is the way of asking the machine (here the machine is named as model) to predict the value of y given the x value based on the learning it has.\n",
        "\n",
        "**Optimizer and Loss**\n",
        "\n",
        "- Imagine loss as the numerical measure of the difference between expected ouput and the actual output.\n",
        "- In the above model fit output, you can see the loss during the initial epochs are greater and the sucessive epochs result in lower loss.\n",
        "- This reduced loss during sucessive epochs are achieved with the help of the Optimizer function. The optimizer function adjusts the machine parameters with the goal of reducing the loss.\n",
        "\n",
        "**Why is the output value not exactly 22 as like the convetional programming methods?**\n",
        "- This is because , the machine always consider the things in the probabilistic way, thus it will give the output which is closer to the expected value. \n",
        "- When the machine has a large number of input output pairs to learn from then it will be giving the exact values\n",
        "\n",
        "##### Thus we have finished the Hello World of Tensorflow, let us see how can we use this to solve some intresting problems too"
      ]
    },
    {
      "cell_type": "code",
      "metadata": {
        "id": "h1Ym1f9HqC1V"
      },
      "source": [
        ""
      ],
      "execution_count": null,
      "outputs": []
    }
  ]
}